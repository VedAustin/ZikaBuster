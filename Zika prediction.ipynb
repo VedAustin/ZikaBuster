{
 "cells": [
  {
   "cell_type": "code",
   "execution_count": 1,
   "metadata": {
    "collapsed": false
   },
   "outputs": [],
   "source": [
    "import pandas as pd\n",
    "import numpy as np\n",
    "import matplotlib.pyplot as plt\n",
    "%matplotlib inline"
   ]
  },
  {
   "cell_type": "code",
   "execution_count": 3,
   "metadata": {
    "collapsed": false
   },
   "outputs": [
    {
     "data": {
      "text/html": [
       "<div>\n",
       "<table border=\"1\" class=\"dataframe\">\n",
       "  <thead>\n",
       "    <tr style=\"text-align: right;\">\n",
       "      <th></th>\n",
       "      <th>report_date</th>\n",
       "      <th>location</th>\n",
       "      <th>lat</th>\n",
       "      <th>long</th>\n",
       "      <th>dewPt_max</th>\n",
       "      <th>dewPt_mean</th>\n",
       "      <th>dewPt_min</th>\n",
       "      <th>precip_total_max</th>\n",
       "      <th>precip_total_mean</th>\n",
       "      <th>precip_total_min</th>\n",
       "      <th>pressure_max</th>\n",
       "      <th>pressure_mean</th>\n",
       "      <th>pressure_min</th>\n",
       "      <th>temp_max</th>\n",
       "      <th>temp_mean</th>\n",
       "      <th>temp_min</th>\n",
       "      <th>wspd_max</th>\n",
       "      <th>wspd_mean</th>\n",
       "      <th>wspd_min</th>\n",
       "    </tr>\n",
       "  </thead>\n",
       "  <tbody>\n",
       "    <tr>\n",
       "      <th>0</th>\n",
       "      <td>1/9/16</td>\n",
       "      <td>Colombia-Bogota-Bogota, _D.C.</td>\n",
       "      <td>4.710989</td>\n",
       "      <td>-74.072092</td>\n",
       "      <td>98</td>\n",
       "      <td>10.54464286</td>\n",
       "      <td>5</td>\n",
       "      <td>None</td>\n",
       "      <td>None</td>\n",
       "      <td>None</td>\n",
       "      <td>754.51</td>\n",
       "      <td>752.4095946</td>\n",
       "      <td>745.33</td>\n",
       "      <td>98</td>\n",
       "      <td>15.34821429</td>\n",
       "      <td>6</td>\n",
       "      <td>33</td>\n",
       "      <td>10.60909091</td>\n",
       "      <td>4</td>\n",
       "    </tr>\n",
       "    <tr>\n",
       "      <th>1</th>\n",
       "      <td>1/16/16</td>\n",
       "      <td>Colombia-Bogota-Bogota, _D.C.</td>\n",
       "      <td>4.710989</td>\n",
       "      <td>-74.072092</td>\n",
       "      <td>13</td>\n",
       "      <td>8.688888889</td>\n",
       "      <td>2</td>\n",
       "      <td>None</td>\n",
       "      <td>None</td>\n",
       "      <td>None</td>\n",
       "      <td>754.51</td>\n",
       "      <td>752.3409375</td>\n",
       "      <td>750.05</td>\n",
       "      <td>23</td>\n",
       "      <td>13.63111111</td>\n",
       "      <td>2</td>\n",
       "      <td>28</td>\n",
       "      <td>9.769953052</td>\n",
       "      <td>4</td>\n",
       "    </tr>\n",
       "    <tr>\n",
       "      <th>2</th>\n",
       "      <td>1/23/16</td>\n",
       "      <td>Colombia-Bogota-Bogota, _D.C.</td>\n",
       "      <td>4.710989</td>\n",
       "      <td>-74.072092</td>\n",
       "      <td>13</td>\n",
       "      <td>8.641666667</td>\n",
       "      <td>-1</td>\n",
       "      <td>None</td>\n",
       "      <td>None</td>\n",
       "      <td>None</td>\n",
       "      <td>754.76</td>\n",
       "      <td>752.5614644</td>\n",
       "      <td>750.05</td>\n",
       "      <td>23</td>\n",
       "      <td>13.625</td>\n",
       "      <td>2</td>\n",
       "      <td>30</td>\n",
       "      <td>9.164502165</td>\n",
       "      <td>4</td>\n",
       "    </tr>\n",
       "    <tr>\n",
       "      <th>3</th>\n",
       "      <td>2/6/16</td>\n",
       "      <td>Colombia-Bogota-Bogota, _D.C.</td>\n",
       "      <td>4.710989</td>\n",
       "      <td>-74.072092</td>\n",
       "      <td>13</td>\n",
       "      <td>8.530701754</td>\n",
       "      <td>-6</td>\n",
       "      <td>None</td>\n",
       "      <td>None</td>\n",
       "      <td>None</td>\n",
       "      <td>754.26</td>\n",
       "      <td>752.2243612</td>\n",
       "      <td>749.8</td>\n",
       "      <td>24</td>\n",
       "      <td>14.17982456</td>\n",
       "      <td>4</td>\n",
       "      <td>31</td>\n",
       "      <td>10.1146789</td>\n",
       "      <td>4</td>\n",
       "    </tr>\n",
       "    <tr>\n",
       "      <th>4</th>\n",
       "      <td>6/13/16</td>\n",
       "      <td>Argentina-San_Juan</td>\n",
       "      <td>-31.535107</td>\n",
       "      <td>-68.538594</td>\n",
       "      <td>4</td>\n",
       "      <td>-0.365384615</td>\n",
       "      <td>-4</td>\n",
       "      <td>None</td>\n",
       "      <td>None</td>\n",
       "      <td>None</td>\n",
       "      <td>964.4</td>\n",
       "      <td>953.6888889</td>\n",
       "      <td>947</td>\n",
       "      <td>17</td>\n",
       "      <td>6.555555556</td>\n",
       "      <td>-3</td>\n",
       "      <td>33</td>\n",
       "      <td>11.64705882</td>\n",
       "      <td>4</td>\n",
       "    </tr>\n",
       "  </tbody>\n",
       "</table>\n",
       "</div>"
      ],
      "text/plain": [
       "  report_date                        location        lat       long dewPt_max  \\\n",
       "0      1/9/16   Colombia-Bogota-Bogota, _D.C.   4.710989 -74.072092        98   \n",
       "1     1/16/16   Colombia-Bogota-Bogota, _D.C.   4.710989 -74.072092        13   \n",
       "2     1/23/16   Colombia-Bogota-Bogota, _D.C.   4.710989 -74.072092        13   \n",
       "3      2/6/16   Colombia-Bogota-Bogota, _D.C.   4.710989 -74.072092        13   \n",
       "4     6/13/16              Argentina-San_Juan -31.535107 -68.538594         4   \n",
       "\n",
       "     dewPt_mean dewPt_min precip_total_max precip_total_mean precip_total_min  \\\n",
       "0   10.54464286         5             None              None             None   \n",
       "1   8.688888889         2             None              None             None   \n",
       "2   8.641666667        -1             None              None             None   \n",
       "3   8.530701754        -6             None              None             None   \n",
       "4  -0.365384615        -4             None              None             None   \n",
       "\n",
       "  pressure_max pressure_mean pressure_min temp_max    temp_mean temp_min  \\\n",
       "0       754.51   752.4095946       745.33       98  15.34821429        6   \n",
       "1       754.51   752.3409375       750.05       23  13.63111111        2   \n",
       "2       754.76   752.5614644       750.05       23       13.625        2   \n",
       "3       754.26   752.2243612        749.8       24  14.17982456        4   \n",
       "4        964.4   953.6888889          947       17  6.555555556       -3   \n",
       "\n",
       "  wspd_max    wspd_mean wspd_min  \n",
       "0       33  10.60909091        4  \n",
       "1       28  9.769953052        4  \n",
       "2       30  9.164502165        4  \n",
       "3       31   10.1146789        4  \n",
       "4       33  11.64705882        4  "
      ]
     },
     "execution_count": 3,
     "metadata": {},
     "output_type": "execute_result"
    }
   ],
   "source": [
    "#df = pd.read_csv(\"zika_weather_clean.csv\")\n",
    "#df.head()"
   ]
  },
  {
   "cell_type": "code",
   "execution_count": null,
   "metadata": {
    "collapsed": false
   },
   "outputs": [],
   "source": [
    "#df.info()"
   ]
  },
  {
   "cell_type": "code",
   "execution_count": 4,
   "metadata": {
    "collapsed": true
   },
   "outputs": [],
   "source": [
    "df = pd.read_csv(\"data_for_modelling.csv\")"
   ]
  },
  {
   "cell_type": "code",
   "execution_count": 5,
   "metadata": {
    "collapsed": false
   },
   "outputs": [
    {
     "data": {
      "text/html": [
       "<div>\n",
       "<table border=\"1\" class=\"dataframe\">\n",
       "  <thead>\n",
       "    <tr style=\"text-align: right;\">\n",
       "      <th></th>\n",
       "      <th>dewPt_max</th>\n",
       "      <th>dewPt_mean</th>\n",
       "      <th>dewPt_min</th>\n",
       "      <th>precip_total_max</th>\n",
       "      <th>precip_total_mean</th>\n",
       "      <th>precip_total_min</th>\n",
       "      <th>pressure_max</th>\n",
       "      <th>pressure_mean</th>\n",
       "      <th>pressure_min</th>\n",
       "      <th>temp_max</th>\n",
       "      <th>temp_mean</th>\n",
       "      <th>temp_min</th>\n",
       "      <th>wspd_max</th>\n",
       "      <th>wspd_mean</th>\n",
       "      <th>wspd_min</th>\n",
       "      <th>zika_confirmed</th>\n",
       "    </tr>\n",
       "  </thead>\n",
       "  <tbody>\n",
       "    <tr>\n",
       "      <th>0</th>\n",
       "      <td>9.649325</td>\n",
       "      <td>-1.454919</td>\n",
       "      <td>-1.401169</td>\n",
       "      <td>6.270825e-16</td>\n",
       "      <td>1.175847e-15</td>\n",
       "      <td>9.924592e-16</td>\n",
       "      <td>-1.177345</td>\n",
       "      <td>-1.494531</td>\n",
       "      <td>-1.403926</td>\n",
       "      <td>8.789665</td>\n",
       "      <td>-1.490906</td>\n",
       "      <td>-1.804205</td>\n",
       "      <td>0.106652</td>\n",
       "      <td>-0.181011</td>\n",
       "      <td>-0.568948</td>\n",
       "      <td>0</td>\n",
       "    </tr>\n",
       "    <tr>\n",
       "      <th>1</th>\n",
       "      <td>-1.108508</td>\n",
       "      <td>-1.811340</td>\n",
       "      <td>-1.855505</td>\n",
       "      <td>6.270825e-16</td>\n",
       "      <td>1.175847e-15</td>\n",
       "      <td>9.924592e-16</td>\n",
       "      <td>-1.177345</td>\n",
       "      <td>-1.495253</td>\n",
       "      <td>-1.356565</td>\n",
       "      <td>-1.034095</td>\n",
       "      <td>-1.793407</td>\n",
       "      <td>-2.427326</td>\n",
       "      <td>-0.047103</td>\n",
       "      <td>-0.414935</td>\n",
       "      <td>-0.568948</td>\n",
       "      <td>0</td>\n",
       "    </tr>\n",
       "    <tr>\n",
       "      <th>2</th>\n",
       "      <td>-1.108508</td>\n",
       "      <td>-1.820409</td>\n",
       "      <td>-2.309840</td>\n",
       "      <td>6.270825e-16</td>\n",
       "      <td>1.175847e-15</td>\n",
       "      <td>9.924592e-16</td>\n",
       "      <td>-1.175393</td>\n",
       "      <td>-1.492933</td>\n",
       "      <td>-1.356565</td>\n",
       "      <td>-1.034095</td>\n",
       "      <td>-1.794484</td>\n",
       "      <td>-2.427326</td>\n",
       "      <td>0.014399</td>\n",
       "      <td>-0.583715</td>\n",
       "      <td>-0.568948</td>\n",
       "      <td>0</td>\n",
       "    </tr>\n",
       "    <tr>\n",
       "      <th>3</th>\n",
       "      <td>-1.108508</td>\n",
       "      <td>-1.841721</td>\n",
       "      <td>-3.067066</td>\n",
       "      <td>6.270825e-16</td>\n",
       "      <td>1.175847e-15</td>\n",
       "      <td>9.924592e-16</td>\n",
       "      <td>-1.179296</td>\n",
       "      <td>-1.496479</td>\n",
       "      <td>-1.359074</td>\n",
       "      <td>-0.903111</td>\n",
       "      <td>-1.696741</td>\n",
       "      <td>-2.115765</td>\n",
       "      <td>0.045150</td>\n",
       "      <td>-0.318837</td>\n",
       "      <td>-0.568948</td>\n",
       "      <td>0</td>\n",
       "    </tr>\n",
       "    <tr>\n",
       "      <th>4</th>\n",
       "      <td>-2.247573</td>\n",
       "      <td>-3.550325</td>\n",
       "      <td>-2.764176</td>\n",
       "      <td>6.270825e-16</td>\n",
       "      <td>1.175847e-15</td>\n",
       "      <td>9.924592e-16</td>\n",
       "      <td>0.461100</td>\n",
       "      <td>0.622834</td>\n",
       "      <td>0.619641</td>\n",
       "      <td>-1.819995</td>\n",
       "      <td>-3.039905</td>\n",
       "      <td>-3.206228</td>\n",
       "      <td>0.106652</td>\n",
       "      <td>0.108341</td>\n",
       "      <td>-0.568948</td>\n",
       "      <td>0</td>\n",
       "    </tr>\n",
       "  </tbody>\n",
       "</table>\n",
       "</div>"
      ],
      "text/plain": [
       "   dewPt_max  dewPt_mean  dewPt_min  precip_total_max  precip_total_mean  \\\n",
       "0   9.649325   -1.454919  -1.401169      6.270825e-16       1.175847e-15   \n",
       "1  -1.108508   -1.811340  -1.855505      6.270825e-16       1.175847e-15   \n",
       "2  -1.108508   -1.820409  -2.309840      6.270825e-16       1.175847e-15   \n",
       "3  -1.108508   -1.841721  -3.067066      6.270825e-16       1.175847e-15   \n",
       "4  -2.247573   -3.550325  -2.764176      6.270825e-16       1.175847e-15   \n",
       "\n",
       "   precip_total_min  pressure_max  pressure_mean  pressure_min  temp_max  \\\n",
       "0      9.924592e-16     -1.177345      -1.494531     -1.403926  8.789665   \n",
       "1      9.924592e-16     -1.177345      -1.495253     -1.356565 -1.034095   \n",
       "2      9.924592e-16     -1.175393      -1.492933     -1.356565 -1.034095   \n",
       "3      9.924592e-16     -1.179296      -1.496479     -1.359074 -0.903111   \n",
       "4      9.924592e-16      0.461100       0.622834      0.619641 -1.819995   \n",
       "\n",
       "   temp_mean  temp_min  wspd_max  wspd_mean  wspd_min  zika_confirmed  \n",
       "0  -1.490906 -1.804205  0.106652  -0.181011 -0.568948               0  \n",
       "1  -1.793407 -2.427326 -0.047103  -0.414935 -0.568948               0  \n",
       "2  -1.794484 -2.427326  0.014399  -0.583715 -0.568948               0  \n",
       "3  -1.696741 -2.115765  0.045150  -0.318837 -0.568948               0  \n",
       "4  -3.039905 -3.206228  0.106652   0.108341 -0.568948               0  "
      ]
     },
     "execution_count": 5,
     "metadata": {},
     "output_type": "execute_result"
    }
   ],
   "source": [
    "df.head()"
   ]
  },
  {
   "cell_type": "code",
   "execution_count": 101,
   "metadata": {
    "collapsed": false
   },
   "outputs": [
    {
     "data": {
      "image/png": "[encoded data removed]",
      "text/plain": [
       "<matplotlib.figure.Figure at 0x1277b50ff28>"
      ]
     },
     "metadata": {},
     "output_type": "display_data"
    }
   ],
   "source": [
    "import seaborn as sns\n",
    "ax = sns.heatmap(data_modelling)"
   ]
  },
  {
   "cell_type": "code",
   "execution_count": null,
   "metadata": {
    "collapsed": true
   },
   "outputs": [],
   "source": [
    "from sklearn.linear_model import LogisticRegression\n",
    "logReg = LogisticRegression()"
   ]
  },
  {
   "cell_type": "code",
   "execution_count": 73,
   "metadata": {
    "collapsed": false
   },
   "outputs": [],
   "source": [
    "X = df.drop(['zika_confirmed'], axis=1).values\n",
    "y = df[\"zika_confirmed\"].values.ravel()"
   ]
  },
  {
   "cell_type": "code",
   "execution_count": 59,
   "metadata": {
    "collapsed": false
   },
   "outputs": [],
   "source": [
    "from sklearn.model_selection import train_test_split\n",
    "X_train, X_test, y_train, y_test = train_test_split(X, y, test_size = 0.3, random_state = 1)"
   ]
  },
  {
   "cell_type": "code",
   "execution_count": 74,
   "metadata": {
    "collapsed": false
   },
   "outputs": [],
   "source": [
    "y_train = y_train.reshape(y_train.shape[0], 1)"
   ]
  },
  {
   "cell_type": "code",
   "execution_count": 92,
   "metadata": {
    "collapsed": false
   },
   "outputs": [
    {
     "name": "stdout",
     "output_type": "stream",
     "text": [
      "(20186, 15)\n",
      "(20186, 1)\n"
     ]
    }
   ],
   "source": [
    "print(X_train.shape)\n",
    "#y_test.shape\n",
    "print(y_train.shape)\n",
    "y_test.shape\n",
    "y_test = y_test.reshape(y_test.shape[0], 1)\n",
    "import warnings\n",
    "warnings.filterwarnings('ignore')"
   ]
  },
  {
   "cell_type": "code",
   "execution_count": 93,
   "metadata": {
    "collapsed": false
   },
   "outputs": [
    {
     "data": {
      "text/plain": [
       "0.67845584835876094"
      ]
     },
     "execution_count": 93,
     "metadata": {},
     "output_type": "execute_result"
    }
   ],
   "source": [
    "from sklearn.model_selection import cross_val_score\n",
    "logReg_model = logReg.fit(X_train, y_train)\n",
    "y_pred = logReg_model.predict(X_test)\n",
    "accuracy = logReg_model.score(X_test, y_test)\n",
    "accuracy"
   ]
  },
  {
   "cell_type": "code",
   "execution_count": 94,
   "metadata": {
    "collapsed": false
   },
   "outputs": [
    {
     "data": {
      "text/plain": [
       "0.52199736708497968"
      ]
     },
     "execution_count": 94,
     "metadata": {},
     "output_type": "execute_result"
    }
   ],
   "source": [
    "from sklearn.metrics import roc_auc_score\n",
    "roc_auc_score(y_test, y_pred)"
   ]
  },
  {
   "cell_type": "code",
   "execution_count": 95,
   "metadata": {
    "collapsed": false
   },
   "outputs": [
    {
     "data": {
      "text/plain": [
       "array([ -4.75694544e-01,  -4.64399713e-01,  -3.41052734e-01,\n",
       "         6.27082524e-16,   1.17584664e-15,   9.92459214e-16,\n",
       "         1.57965176e+00,  -4.28510933e-01,  -3.83061571e-01,\n",
       "         1.44756599e-01,   1.94199605e-01,   6.51599614e-02,\n",
       "         2.29655793e-01,   8.84349299e-01,  -5.68948247e-01])"
      ]
     },
     "execution_count": 95,
     "metadata": {},
     "output_type": "execute_result"
    }
   ],
   "source": [
    "X_test[0] "
   ]
  },
  {
   "cell_type": "code",
   "execution_count": 96,
   "metadata": {
    "collapsed": false
   },
   "outputs": [],
   "source": [
    "test_Weather = np.array([-4.75694544e-01,  -4.64399713e-01,  -3.41052734e-01,\n",
    "         6.27082524e-16,   1.17584664e-15,   9.92459214e-16,\n",
    "         1.57965176e+00,  -4.28510933e-01,  -3.83061571e-01,\n",
    "         1.44756599e-01,   1.94199605e-01,   6.51599614e-02,\n",
    "         2.29655793e-01,   8.84349299e-01,  -5.68948247e-01])"
   ]
  },
  {
   "cell_type": "code",
   "execution_count": 100,
   "metadata": {
    "collapsed": false
   },
   "outputs": [
    {
     "data": {
      "text/plain": [
       "array([[ 0.68029532,  0.31970468]])"
      ]
     },
     "execution_count": 100,
     "metadata": {},
     "output_type": "execute_result"
    }
   ],
   "source": [
    "zika_prob = logReg_model.predict_proba(test_Weather)\n",
    "zika_prob"
   ]
  },
  {
   "cell_type": "code",
   "execution_count": null,
   "metadata": {
    "collapsed": false
   },
   "outputs": [],
   "source": []
  },
  {
   "cell_type": "code",
   "execution_count": null,
   "metadata": {
    "collapsed": true
   },
   "outputs": [],
   "source": []
  }
 ],
 "metadata": {
  "kernelspec": {
   "display_name": "Python 3",
   "language": "python",
   "name": "python3"
  },
  "language_info": {
   "codemirror_mode": {
    "name": "ipython",
    "version": 3
   },
   "file_extension": ".py",
   "mimetype": "text/x-python",
   "name": "python",
   "nbconvert_exporter": "python",
   "pygments_lexer": "ipython3",
   "version": "3.6.0"
  }
 },
 "nbformat": 4,
 "nbformat_minor": 2
}
