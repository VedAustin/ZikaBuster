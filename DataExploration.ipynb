{
 "cells": [
  {
   "cell_type": "code",
   "execution_count": 25,
   "metadata": {
    "collapsed": true
   },
   "outputs": [],
   "source": [
    "import pandas as pd, numpy as np\n",
    "from sklearn import preprocessing\n",
    "pd.options.display.max_columns = 100\n",
    "pd.options.display.max_rows = 100"
   ]
  },
  {
   "cell_type": "code",
   "execution_count": 2,
   "metadata": {
    "collapsed": false
   },
   "outputs": [
    {
     "name": "stderr",
     "output_type": "stream",
     "text": [
      "C:\\Users\\Shetty\\Anaconda\\lib\\site-packages\\IPython\\core\\interactiveshell.py:2717: DtypeWarning: Columns (7) have mixed types. Specify dtype option on import or set low_memory=False.\n",
      "  interactivity=interactivity, compiler=compiler, result=result)\n"
     ]
    }
   ],
   "source": [
    "data = pd.read_csv('data/cdc_zika.csv')"
   ]
  },
  {
   "cell_type": "code",
   "execution_count": 3,
   "metadata": {
    "collapsed": false
   },
   "outputs": [
    {
     "data": {
      "text/html": [
       "<div>\n",
       "<table border=\"1\" class=\"dataframe\">\n",
       "  <thead>\n",
       "    <tr style=\"text-align: right;\">\n",
       "      <th></th>\n",
       "      <th>report_date</th>\n",
       "      <th>location</th>\n",
       "      <th>location_type</th>\n",
       "      <th>data_field</th>\n",
       "      <th>data_field_code</th>\n",
       "      <th>time_period</th>\n",
       "      <th>time_period_type</th>\n",
       "      <th>value</th>\n",
       "      <th>unit</th>\n",
       "    </tr>\n",
       "  </thead>\n",
       "  <tbody>\n",
       "    <tr>\n",
       "      <th>0</th>\n",
       "      <td>2016-03-19</td>\n",
       "      <td>Argentina-Buenos_Aires</td>\n",
       "      <td>province</td>\n",
       "      <td>cumulative_confirmed_local_cases</td>\n",
       "      <td>AR0001</td>\n",
       "      <td>NaN</td>\n",
       "      <td>NaN</td>\n",
       "      <td>0</td>\n",
       "      <td>cases</td>\n",
       "    </tr>\n",
       "    <tr>\n",
       "      <th>1</th>\n",
       "      <td>2016-03-19</td>\n",
       "      <td>Argentina-Buenos_Aires</td>\n",
       "      <td>province</td>\n",
       "      <td>cumulative_probable_local_cases</td>\n",
       "      <td>AR0002</td>\n",
       "      <td>NaN</td>\n",
       "      <td>NaN</td>\n",
       "      <td>0</td>\n",
       "      <td>cases</td>\n",
       "    </tr>\n",
       "    <tr>\n",
       "      <th>2</th>\n",
       "      <td>2016-03-19</td>\n",
       "      <td>Argentina-Buenos_Aires</td>\n",
       "      <td>province</td>\n",
       "      <td>cumulative_confirmed_imported_cases</td>\n",
       "      <td>AR0003</td>\n",
       "      <td>NaN</td>\n",
       "      <td>NaN</td>\n",
       "      <td>2</td>\n",
       "      <td>cases</td>\n",
       "    </tr>\n",
       "    <tr>\n",
       "      <th>3</th>\n",
       "      <td>2016-03-19</td>\n",
       "      <td>Argentina-Buenos_Aires</td>\n",
       "      <td>province</td>\n",
       "      <td>cumulative_probable_imported_cases</td>\n",
       "      <td>AR0004</td>\n",
       "      <td>NaN</td>\n",
       "      <td>NaN</td>\n",
       "      <td>1</td>\n",
       "      <td>cases</td>\n",
       "    </tr>\n",
       "    <tr>\n",
       "      <th>4</th>\n",
       "      <td>2016-03-19</td>\n",
       "      <td>Argentina-Buenos_Aires</td>\n",
       "      <td>province</td>\n",
       "      <td>cumulative_cases_under_study</td>\n",
       "      <td>AR0005</td>\n",
       "      <td>NaN</td>\n",
       "      <td>NaN</td>\n",
       "      <td>127</td>\n",
       "      <td>cases</td>\n",
       "    </tr>\n",
       "  </tbody>\n",
       "</table>\n",
       "</div>"
      ],
      "text/plain": [
       "  report_date                location location_type  \\\n",
       "0  2016-03-19  Argentina-Buenos_Aires      province   \n",
       "1  2016-03-19  Argentina-Buenos_Aires      province   \n",
       "2  2016-03-19  Argentina-Buenos_Aires      province   \n",
       "3  2016-03-19  Argentina-Buenos_Aires      province   \n",
       "4  2016-03-19  Argentina-Buenos_Aires      province   \n",
       "\n",
       "                            data_field data_field_code  time_period  \\\n",
       "0     cumulative_confirmed_local_cases          AR0001          NaN   \n",
       "1      cumulative_probable_local_cases          AR0002          NaN   \n",
       "2  cumulative_confirmed_imported_cases          AR0003          NaN   \n",
       "3   cumulative_probable_imported_cases          AR0004          NaN   \n",
       "4         cumulative_cases_under_study          AR0005          NaN   \n",
       "\n",
       "   time_period_type value   unit  \n",
       "0               NaN     0  cases  \n",
       "1               NaN     0  cases  \n",
       "2               NaN     2  cases  \n",
       "3               NaN     1  cases  \n",
       "4               NaN   127  cases  "
      ]
     },
     "execution_count": 3,
     "metadata": {},
     "output_type": "execute_result"
    }
   ],
   "source": [
    "data.head()"
   ]
  },
  {
   "cell_type": "code",
   "execution_count": 120,
   "metadata": {
    "collapsed": false
   },
   "outputs": [
    {
     "data": {
      "text/plain": [
       "array(['province', 'state', 'region', 'municipality', nan, 'country',\n",
       "       'county', 'department', 'Department', 'district', 'city',\n",
       "       'territory'], dtype=object)"
      ]
     },
     "execution_count": 120,
     "metadata": {},
     "output_type": "execute_result"
    }
   ],
   "source": [
    "data.location_type.unique()"
   ]
  },
  {
   "cell_type": "code",
   "execution_count": 6,
   "metadata": {
    "collapsed": false
   },
   "outputs": [
    {
     "data": {
      "text/plain": [
       "array(['cases', 'municipalities', nan], dtype=object)"
      ]
     },
     "execution_count": 6,
     "metadata": {},
     "output_type": "execute_result"
    }
   ],
   "source": [
    "data.unit.unique()"
   ]
  },
  {
   "cell_type": "code",
   "execution_count": 7,
   "metadata": {
    "collapsed": false
   },
   "outputs": [
    {
     "data": {
      "text/plain": [
       "array(['cumulative_confirmed_local_cases',\n",
       "       'cumulative_probable_local_cases',\n",
       "       'cumulative_confirmed_imported_cases',\n",
       "       'cumulative_probable_imported_cases',\n",
       "       'cumulative_cases_under_study', 'cumulative_cases_discarded',\n",
       "       'microcephaly_under_investigation', 'microcephaly_confirmed',\n",
       "       'microcephaly_not', 'municipality_microcephaly',\n",
       "       'microcephaly_fatal_under_investigation',\n",
       "       'microcephaly_fatal_confirmed', 'microcephaly_fatal_not',\n",
       "       'municipality_microcephaly_suspected', 'zika_reported',\n",
       "       'zika_confirmed_laboratory', 'zika_confirmed_clinic',\n",
       "       'zika_suspected', 'zika_suspected_clinic', nan,\n",
       "       'total_zika_new_suspected', 'total_zika_new_confirmed_pcr',\n",
       "       'zika_new_confirmed_pcr_f', 'zika_new_confirmed_pcr_m',\n",
       "       'efe_reported', 'zika_suspected_cumulative',\n",
       "       'zika_suspected_pregnant_cumulative',\n",
       "       'zika_confirmed_pcr_cumulative', 'zika_suspected_pregnant',\n",
       "       'gbs_reported', 'gbs_zika_confirmed', 'gbs_zika_confirmed_pregnant',\n",
       "       'gbs_confirmed_cumulative', 'gbs_reported_cumulative',\n",
       "       'microcephaly_confirmed_cumulative', 'microcephaly_suspected',\n",
       "       'microcephaly_suspected_cumulative',\n",
       "       'zika_confirmed_pregnant_cumulative', 'zika_suspected_4weeks',\n",
       "       'gbs_reported_4weeks', 'microcephaly_suspected_4weeks',\n",
       "       'total_zika_suspected_cumulative',\n",
       "       'total_zika_confirmed_cumulative',\n",
       "       'total_zika_confirmed_autochthonous',\n",
       "       'total_zika_confirmed_imported', 'total_zika_confirmed_pregnant',\n",
       "       'total_zika_confirmed_ages_0-11mo_F',\n",
       "       'total_zika_confirmed_ages_0-11mo_M',\n",
       "       'total_zika_confirmed_ages_1-4yrs_F',\n",
       "       'total_zika_confirmed_ages_1-4yrs_M',\n",
       "       'total_zika_confirmed_ages_5-9yrs_F',\n",
       "       'total_zika_confirmed_ages_5-9yrs_M',\n",
       "       'total_zika_confirmed_ages_10-14yrs_F',\n",
       "       'total_zika_confirmed_ages_10-14yrs_M',\n",
       "       'total_zika_confirmed_ages_15-19yrs_F',\n",
       "       'total_zika_confirmed_ages_15-19yrs_M',\n",
       "       'total_zika_confirmed_ages_20-49yrs_F',\n",
       "       'total_zika_confirmed_ages_20-49yrs_M',\n",
       "       'total_zika_confirmed_ages_50-64yrs_F',\n",
       "       'total_zika_confirmed_ages_50-64yrs_M',\n",
       "       'total_zika_confirmed_ages_over65_F',\n",
       "       'total_zika_confirmed_ages_over65_M',\n",
       "       'total_zika_confirmed_Not-Aplicable', 'cumulative_suspected_total',\n",
       "       'cumulative_suspected_pregnant', 'cumulative_suspected_age_under_1',\n",
       "       'cumulative_suspected_age_1-4', 'cumulative_suspected_age_5-9',\n",
       "       'cumulative_suspected_age_10-19', 'cumulative_suspected_age_20-29',\n",
       "       'cumulative_suspected_age_30-39', 'cumulative_suspected_age_40-49',\n",
       "       'cumulative_suspected_age_50-59',\n",
       "       'cumulative_suspected_age_60_plus', 'weekly_hospitalized',\n",
       "       'cumulative_confirmed', 'total_zika_suspected',\n",
       "       'total_zika_suspected_M', 'total_zika_suspected_F',\n",
       "       'total_zika_confirmed', 'total_zika_confirmed_F',\n",
       "       'total_zika_confirmed_M',\n",
       "       'total_zika_confirmed_pregnant_cumulative',\n",
       "       'total_zika_new_suspected_cumulative', 'weekly_zika_confirmed',\n",
       "       'yearly_cumulative_female', 'yearly_cumulative_male',\n",
       "       'normal_birth_confirmed_zika', 'Zika_confirmed_laboratory_2015',\n",
       "       'Zika_confirmed_laboratory_2016', 'Zika_confirmed_F',\n",
       "       'Zika_confirmed_M', 'confirmed_age_under_1', 'confirmed_age_1-4',\n",
       "       'confirmed_age_5-9', 'confirmed_age_10-14', 'confirmed_age_15-19',\n",
       "       'confirmed_age_20-24', 'confirmed_age_25-34', 'confirmed_age_35-49',\n",
       "       'confirmed_age_50-59', 'confirmed_age_60-64',\n",
       "       'confirmed_age_60_plus', 'weekly_Zika_confirmed_asymptomatic',\n",
       "       'weekly_Zika_confirmed_pending', 'weekly_Zika_confirmed_local',\n",
       "       'weekly_Zika_confirmed_imported', 'Zika_positive_pregnant',\n",
       "       'Zika_negative_pregnant', 'zika_confirmed_2weeks',\n",
       "       'zika_confirmed_cumulative_2016', 'flavi_confirmed_cumulative_2016',\n",
       "       'zika_confirmed_cumulative_2015-2016',\n",
       "       'zika_confirmed_pregnant_cumulative_2015-2016',\n",
       "       'zika_confirmed_pregnant_symptomatic_cumulative_2015-2016',\n",
       "       'zika_confirmed_pregnant_asymptomatic_cumulative_2015-2016',\n",
       "       'GBS_reported_cumulative_2015-2016', 'arbovirus_suspected_2weeks',\n",
       "       'arbovirus_suspected_cumulative_2015', 'zika_confirmed_4weeks',\n",
       "       'arbovirus_suspected_cumulative_2016', 'arbovirus_suspected_4weeks',\n",
       "       'GBS_reported_cumulative_2015-2016_zika',\n",
       "       'GBS_reported_cumulative_2015-2016_flavi',\n",
       "       'congenital_developmental_defects_reported_cummulative_2015-2016',\n",
       "       'congenital_developmental_defects_reported_cumulative_2015-2016',\n",
       "       'zika_reported_travel', 'zika_reported_local',\n",
       "       'yearly_reported_travel_cases', 'zika_lab_positive', 'zika_not',\n",
       "       'zika_pending', 'confirmed_age_under20', 'confirmed_age_20to39',\n",
       "       'confirmed_age_40to59', 'confirmed_age_over59', 'confirmed_age_unk',\n",
       "       'confirmed_male', 'confirmed_female', 'confirmed_fever',\n",
       "       'confirmed_acute_fever', 'confirmed_arthralgia',\n",
       "       'confirmed_arthritis', 'confirmed_rash', 'confirmed_conjunctivitis',\n",
       "       'confirmed_eyepain', 'confirmed_headache', 'confirmed_malaise',\n",
       "       'zika_no_specimen'], dtype=object)"
      ]
     },
     "execution_count": 7,
     "metadata": {},
     "output_type": "execute_result"
    }
   ],
   "source": [
    "data.data_field.unique()"
   ]
  },
  {
   "cell_type": "code",
   "execution_count": 8,
   "metadata": {
    "collapsed": false
   },
   "outputs": [
    {
     "data": {
      "text/plain": [
       "(107619, 9)"
      ]
     },
     "execution_count": 8,
     "metadata": {},
     "output_type": "execute_result"
    }
   ],
   "source": [
    "data.shape"
   ]
  },
  {
   "cell_type": "code",
   "execution_count": 4,
   "metadata": {
    "collapsed": true
   },
   "outputs": [],
   "source": [
    "# Only consider cases where there is 100% certainity of zika outbreak\n",
    "zika_present = ['cumulative_confirmed_local_cases','cumulative_confirmed_imported_cases','microcephaly_confirmed','microcephaly_fatal_under_investigation','microcephaly_fatal_confirmed', 'microcephaly_fatal_not', 'zika_confirmed_laboratory', 'zika_confirmed_clinic','total_zika_new_confirmed_pcr','zika_new_confirmed_pcr_f', 'zika_new_confirmed_pcr_m',\n",
    "'zika_confirmed_pcr_cumulative','gbs_reported', 'gbs_zika_confirmed', 'gbs_zika_confirmed_pregnant',\n",
    "'gbs_confirmed_cumulative','microcephaly_confirmed_cumulative','zika_confirmed_pregnant_cumulative',\n",
    "'total_zika_confirmed_cumulative','total_zika_confirmed_autochthonous','total_zika_confirmed_imported', 'total_zika_confirmed_pregnant',\n",
    "'total_zika_confirmed_ages_0-11mo_F',\n",
    "       'total_zika_confirmed_ages_0-11mo_M',\n",
    "       'total_zika_confirmed_ages_1-4yrs_F',\n",
    "       'total_zika_confirmed_ages_1-4yrs_M',\n",
    "       'total_zika_confirmed_ages_5-9yrs_F',\n",
    "       'total_zika_confirmed_ages_5-9yrs_M',\n",
    "       'total_zika_confirmed_ages_10-14yrs_F',\n",
    "       'total_zika_confirmed_ages_10-14yrs_M',\n",
    "       'total_zika_confirmed_ages_15-19yrs_F',\n",
    "       'total_zika_confirmed_ages_15-19yrs_M',\n",
    "       'total_zika_confirmed_ages_20-49yrs_F',\n",
    "       'total_zika_confirmed_ages_20-49yrs_M',\n",
    "       'total_zika_confirmed_ages_50-64yrs_F',\n",
    "       'total_zika_confirmed_ages_50-64yrs_M',\n",
    "       'total_zika_confirmed_ages_over65_F',\n",
    "       'total_zika_confirmed_ages_over65_M',\n",
    "       'cumulative_confirmed', \n",
    "       'total_zika_confirmed', 'total_zika_confirmed_F',\n",
    "       'total_zika_confirmed_M',\n",
    "       'total_zika_confirmed_pregnant_cumulative',\n",
    "       'weekly_zika_confirmed',\n",
    "       'Zika_confirmed_laboratory_2015',\n",
    "       'Zika_confirmed_laboratory_2016', 'Zika_confirmed_F',\n",
    "       'Zika_confirmed_M', 'confirmed_age_under_1', 'confirmed_age_1-4',\n",
    "       'confirmed_age_5-9', 'confirmed_age_10-14', 'confirmed_age_15-19',\n",
    "       'confirmed_age_20-24', 'confirmed_age_25-34', 'confirmed_age_35-49',\n",
    "       'confirmed_age_50-59', 'confirmed_age_60-64',\n",
    "       'confirmed_age_60_plus', 'weekly_Zika_confirmed_asymptomatic',\n",
    "       'weekly_Zika_confirmed_local',\n",
    "       'weekly_Zika_confirmed_imported', 'Zika_positive_pregnant',\n",
    "       'zika_confirmed_2weeks',\n",
    "       'zika_confirmed_cumulative_2016', 'flavi_confirmed_cumulative_2016',\n",
    "       'zika_confirmed_cumulative_2015-2016',\n",
    "       'zika_confirmed_pregnant_cumulative_2015-2016',\n",
    "       'zika_confirmed_pregnant_symptomatic_cumulative_2015-2016',\n",
    "       'zika_confirmed_pregnant_asymptomatic_cumulative_2015-2016',\n",
    "       'zika_confirmed_4weeks',\n",
    "       'GBS_reported_cumulative_2015-2016_zika',\n",
    "       'GBS_reported_cumulative_2015-2016_flavi',\n",
    "       'congenital_developmental_defects_reported_cummulative_2015-2016',\n",
    "       'congenital_developmental_defects_reported_cumulative_2015-2016',\n",
    "       'zika_lab_positive',\n",
    "       'confirmed_age_under20', 'confirmed_age_20to39',\n",
    "       'confirmed_age_40to59', 'confirmed_age_over59', 'confirmed_age_unk',\n",
    "       'confirmed_male', 'confirmed_female']"
   ]
  },
  {
   "cell_type": "code",
   "execution_count": 6,
   "metadata": {
    "collapsed": false
   },
   "outputs": [
    {
     "name": "stderr",
     "output_type": "stream",
     "text": [
      "C:\\Users\\Shetty\\Anaconda\\lib\\site-packages\\ipykernel\\__main__.py:3: SettingWithCopyWarning: \n",
      "A value is trying to be set on a copy of a slice from a DataFrame\n",
      "\n",
      "See the caveats in the documentation: http://pandas.pydata.org/pandas-docs/stable/indexing.html#indexing-view-versus-copy\n",
      "  app.launch_new_instance()\n"
     ]
    }
   ],
   "source": [
    "data_reduced = data[['report_date','location','data_field','value']]\n",
    "\n",
    "data_reduced.dropna(inplace=1)"
   ]
  },
  {
   "cell_type": "code",
   "execution_count": 7,
   "metadata": {
    "collapsed": false
   },
   "outputs": [],
   "source": [
    "def zikapresent(row):\n",
    "    try:\n",
    "        if ((row['data_field'] in zika_present) & (float(row['value']) > 0) ):\n",
    "            return 1\n",
    "        else:\n",
    "            return 0\n",
    "    except Exception:\n",
    "        return 0"
   ]
  },
  {
   "cell_type": "code",
   "execution_count": 8,
   "metadata": {
    "collapsed": false
   },
   "outputs": [
    {
     "name": "stderr",
     "output_type": "stream",
     "text": [
      "C:\\Users\\Shetty\\Anaconda\\lib\\site-packages\\ipykernel\\__main__.py:1: SettingWithCopyWarning: \n",
      "A value is trying to be set on a copy of a slice from a DataFrame.\n",
      "Try using .loc[row_indexer,col_indexer] = value instead\n",
      "\n",
      "See the caveats in the documentation: http://pandas.pydata.org/pandas-docs/stable/indexing.html#indexing-view-versus-copy\n",
      "  if __name__ == '__main__':\n"
     ]
    }
   ],
   "source": [
    "data_reduced['zika_confirmed'] = data_reduced.apply(zikapresent,axis=1)"
   ]
  },
  {
   "cell_type": "code",
   "execution_count": 9,
   "metadata": {
    "collapsed": false
   },
   "outputs": [],
   "source": [
    "data_final = data_reduced.groupby(['report_date','location']).agg({'zika_confirmed':max}).reset_index()"
   ]
  },
  {
   "cell_type": "code",
   "execution_count": 10,
   "metadata": {
    "collapsed": false
   },
   "outputs": [
    {
     "data": {
      "text/html": [
       "<div>\n",
       "<table border=\"1\" class=\"dataframe\">\n",
       "  <thead>\n",
       "    <tr style=\"text-align: right;\">\n",
       "      <th></th>\n",
       "      <th>report_date</th>\n",
       "      <th>location</th>\n",
       "      <th>zika_confirmed</th>\n",
       "    </tr>\n",
       "  </thead>\n",
       "  <tbody>\n",
       "    <tr>\n",
       "      <th>0</th>\n",
       "      <td>2015-11-28</td>\n",
       "      <td>El_Salvador</td>\n",
       "      <td>0</td>\n",
       "    </tr>\n",
       "    <tr>\n",
       "      <th>1</th>\n",
       "      <td>2015-11-28</td>\n",
       "      <td>El_Salvador-Ahuachapan</td>\n",
       "      <td>0</td>\n",
       "    </tr>\n",
       "    <tr>\n",
       "      <th>2</th>\n",
       "      <td>2015-11-28</td>\n",
       "      <td>El_Salvador-Cabanas</td>\n",
       "      <td>0</td>\n",
       "    </tr>\n",
       "    <tr>\n",
       "      <th>3</th>\n",
       "      <td>2015-11-28</td>\n",
       "      <td>El_Salvador-Chalatenango</td>\n",
       "      <td>0</td>\n",
       "    </tr>\n",
       "    <tr>\n",
       "      <th>4</th>\n",
       "      <td>2015-11-28</td>\n",
       "      <td>El_Salvador-Cuscatlan</td>\n",
       "      <td>0</td>\n",
       "    </tr>\n",
       "  </tbody>\n",
       "</table>\n",
       "</div>"
      ],
      "text/plain": [
       "  report_date                  location  zika_confirmed\n",
       "0  2015-11-28               El_Salvador               0\n",
       "1  2015-11-28    El_Salvador-Ahuachapan               0\n",
       "2  2015-11-28       El_Salvador-Cabanas               0\n",
       "3  2015-11-28  El_Salvador-Chalatenango               0\n",
       "4  2015-11-28     El_Salvador-Cuscatlan               0"
      ]
     },
     "execution_count": 10,
     "metadata": {},
     "output_type": "execute_result"
    }
   ],
   "source": [
    "data_final.head()"
   ]
  },
  {
   "cell_type": "code",
   "execution_count": 12,
   "metadata": {
    "collapsed": false
   },
   "outputs": [
    {
     "name": "stdout",
     "output_type": "stream",
     "text": [
      "['Argentina' 'Brazil' 'Centro' 'Colombia' 'Dominican_Republic' 'Ecuador'\n",
      " 'El_Salvador' 'Guatemala' 'Haiti' 'Mexico' 'Nicaragua' 'Nordeste' 'Norte'\n",
      " 'Panama' 'Puerto_Rico' 'Sudeste' 'Sul' 'United_States'\n",
      " 'United_States_Virgin_Islands']\n"
     ]
    }
   ],
   "source": [
    "# How many countries are present in the data\n",
    "print np.unique([location.split(\"-\")[0] for location in data_final.location])"
   ]
  },
  {
   "cell_type": "code",
   "execution_count": 13,
   "metadata": {
    "collapsed": false
   },
   "outputs": [
    {
     "data": {
      "text/plain": [
       "0    23606\n",
       "1    10724\n",
       "Name: zika_confirmed, dtype: int64"
      ]
     },
     "execution_count": 13,
     "metadata": {},
     "output_type": "execute_result"
    }
   ],
   "source": [
    "data_final.zika_confirmed.value_counts()"
   ]
  },
  {
   "cell_type": "code",
   "execution_count": 14,
   "metadata": {
    "collapsed": true
   },
   "outputs": [],
   "source": [
    "# Save this data frame (location and date) as a guidance for pulling in weather data (@Sanath)\n",
    "data_final.to_csv('data/zika_data_processed.csv',index=None)"
   ]
  },
  {
   "cell_type": "code",
   "execution_count": 15,
   "metadata": {
    "collapsed": true
   },
   "outputs": [],
   "source": [
    "# Read in the available lat/lon based on zika_data_processed\n",
    "data_lat_lon = pd.read_csv('data/zika_data_processed_lat_lon.csv')"
   ]
  },
  {
   "cell_type": "code",
   "execution_count": 16,
   "metadata": {
    "collapsed": false
   },
   "outputs": [
    {
     "data": {
      "text/html": [
       "<div>\n",
       "<table border=\"1\" class=\"dataframe\">\n",
       "  <thead>\n",
       "    <tr style=\"text-align: right;\">\n",
       "      <th></th>\n",
       "      <th>report_date</th>\n",
       "      <th>location</th>\n",
       "      <th>zika_confirmed</th>\n",
       "      <th>lat</th>\n",
       "      <th>long</th>\n",
       "    </tr>\n",
       "  </thead>\n",
       "  <tbody>\n",
       "    <tr>\n",
       "      <th>0</th>\n",
       "      <td>4/2/16</td>\n",
       "      <td>Norte</td>\n",
       "      <td>0</td>\n",
       "      <td>19.568772</td>\n",
       "      <td>-72.189</td>\n",
       "    </tr>\n",
       "    <tr>\n",
       "      <th>1</th>\n",
       "      <td>4/23/16</td>\n",
       "      <td>Norte</td>\n",
       "      <td>0</td>\n",
       "      <td>19.568772</td>\n",
       "      <td>-72.189</td>\n",
       "    </tr>\n",
       "    <tr>\n",
       "      <th>2</th>\n",
       "      <td>4/30/16</td>\n",
       "      <td>Norte</td>\n",
       "      <td>0</td>\n",
       "      <td>19.568772</td>\n",
       "      <td>-72.189</td>\n",
       "    </tr>\n",
       "    <tr>\n",
       "      <th>3</th>\n",
       "      <td>5/7/16</td>\n",
       "      <td>Norte</td>\n",
       "      <td>0</td>\n",
       "      <td>19.568772</td>\n",
       "      <td>-72.189</td>\n",
       "    </tr>\n",
       "    <tr>\n",
       "      <th>4</th>\n",
       "      <td>5/14/16</td>\n",
       "      <td>Norte</td>\n",
       "      <td>0</td>\n",
       "      <td>19.568772</td>\n",
       "      <td>-72.189</td>\n",
       "    </tr>\n",
       "  </tbody>\n",
       "</table>\n",
       "</div>"
      ],
      "text/plain": [
       "  report_date location  zika_confirmed        lat    long\n",
       "0      4/2/16    Norte               0  19.568772 -72.189\n",
       "1     4/23/16    Norte               0  19.568772 -72.189\n",
       "2     4/30/16    Norte               0  19.568772 -72.189\n",
       "3      5/7/16    Norte               0  19.568772 -72.189\n",
       "4     5/14/16    Norte               0  19.568772 -72.189"
      ]
     },
     "execution_count": 16,
     "metadata": {},
     "output_type": "execute_result"
    }
   ],
   "source": [
    "data_lat_lon.head()"
   ]
  },
  {
   "cell_type": "code",
   "execution_count": 18,
   "metadata": {
    "collapsed": false
   },
   "outputs": [
    {
     "data": {
      "text/plain": [
       "1202"
      ]
     },
     "execution_count": 18,
     "metadata": {},
     "output_type": "execute_result"
    }
   ],
   "source": [
    "len(data_lat_lon.location.unique())"
   ]
  },
  {
   "cell_type": "code",
   "execution_count": 19,
   "metadata": {
    "collapsed": false
   },
   "outputs": [
    {
     "data": {
      "text/plain": [
       "array(['Argentina', 'Brazil', 'Centro', 'Colombia', 'Nordeste', 'Norte',\n",
       "       'Sudeste', 'Sul'], \n",
       "      dtype='|S9')"
      ]
     },
     "execution_count": 19,
     "metadata": {},
     "output_type": "execute_result"
    }
   ],
   "source": [
    "# Fewer countries extracted because of issues in location fields (@Max)\n",
    "np.unique([location.split(\"-\")[0] for location in data_lat_lon.location])"
   ]
  },
  {
   "cell_type": "code",
   "execution_count": 21,
   "metadata": {
    "collapsed": false
   },
   "outputs": [],
   "source": [
    "# Read in weather data \n",
    "data_weather = pd.read_csv('data/zika_weather.csv')"
   ]
  },
  {
   "cell_type": "code",
   "execution_count": 22,
   "metadata": {
    "collapsed": false
   },
   "outputs": [
    {
     "data": {
      "text/html": [
       "<div>\n",
       "<table border=\"1\" class=\"dataframe\">\n",
       "  <thead>\n",
       "    <tr style=\"text-align: right;\">\n",
       "      <th></th>\n",
       "      <th>report_date</th>\n",
       "      <th>location</th>\n",
       "      <th>lat</th>\n",
       "      <th>long</th>\n",
       "      <th>dewPt_max</th>\n",
       "      <th>dewPt_mean</th>\n",
       "      <th>dewPt_min</th>\n",
       "      <th>precip_total_max</th>\n",
       "      <th>precip_total_mean</th>\n",
       "      <th>precip_total_min</th>\n",
       "      <th>pressure_max</th>\n",
       "      <th>pressure_mean</th>\n",
       "      <th>pressure_min</th>\n",
       "      <th>temp_max</th>\n",
       "      <th>temp_mean</th>\n",
       "      <th>temp_min</th>\n",
       "      <th>wspd_max</th>\n",
       "      <th>wspd_mean</th>\n",
       "      <th>wspd_min</th>\n",
       "    </tr>\n",
       "  </thead>\n",
       "  <tbody>\n",
       "    <tr>\n",
       "      <th>0</th>\n",
       "      <td>1/9/16</td>\n",
       "      <td>Colombia-Bogota-Bogota, _D.C.</td>\n",
       "      <td>4.710989</td>\n",
       "      <td>-74.072092</td>\n",
       "      <td>98</td>\n",
       "      <td>10.54464286</td>\n",
       "      <td>5</td>\n",
       "      <td>None</td>\n",
       "      <td>None</td>\n",
       "      <td>None</td>\n",
       "      <td>754.51</td>\n",
       "      <td>752.4095946</td>\n",
       "      <td>745.33</td>\n",
       "      <td>98</td>\n",
       "      <td>15.34821429</td>\n",
       "      <td>6</td>\n",
       "      <td>33</td>\n",
       "      <td>10.60909091</td>\n",
       "      <td>4</td>\n",
       "    </tr>\n",
       "    <tr>\n",
       "      <th>1</th>\n",
       "      <td>1/16/16</td>\n",
       "      <td>Colombia-Bogota-Bogota, _D.C.</td>\n",
       "      <td>4.710989</td>\n",
       "      <td>-74.072092</td>\n",
       "      <td>13</td>\n",
       "      <td>8.688888889</td>\n",
       "      <td>2</td>\n",
       "      <td>None</td>\n",
       "      <td>None</td>\n",
       "      <td>None</td>\n",
       "      <td>754.51</td>\n",
       "      <td>752.3409375</td>\n",
       "      <td>750.05</td>\n",
       "      <td>23</td>\n",
       "      <td>13.63111111</td>\n",
       "      <td>2</td>\n",
       "      <td>28</td>\n",
       "      <td>9.769953052</td>\n",
       "      <td>4</td>\n",
       "    </tr>\n",
       "    <tr>\n",
       "      <th>2</th>\n",
       "      <td>1/23/16</td>\n",
       "      <td>Colombia-Bogota-Bogota, _D.C.</td>\n",
       "      <td>4.710989</td>\n",
       "      <td>-74.072092</td>\n",
       "      <td>13</td>\n",
       "      <td>8.641666667</td>\n",
       "      <td>-1</td>\n",
       "      <td>None</td>\n",
       "      <td>None</td>\n",
       "      <td>None</td>\n",
       "      <td>754.76</td>\n",
       "      <td>752.5614644</td>\n",
       "      <td>750.05</td>\n",
       "      <td>23</td>\n",
       "      <td>13.625</td>\n",
       "      <td>2</td>\n",
       "      <td>30</td>\n",
       "      <td>9.164502165</td>\n",
       "      <td>4</td>\n",
       "    </tr>\n",
       "    <tr>\n",
       "      <th>3</th>\n",
       "      <td>2/6/16</td>\n",
       "      <td>Colombia-Bogota-Bogota, _D.C.</td>\n",
       "      <td>4.710989</td>\n",
       "      <td>-74.072092</td>\n",
       "      <td>13</td>\n",
       "      <td>8.530701754</td>\n",
       "      <td>-6</td>\n",
       "      <td>None</td>\n",
       "      <td>None</td>\n",
       "      <td>None</td>\n",
       "      <td>754.26</td>\n",
       "      <td>752.2243612</td>\n",
       "      <td>749.8</td>\n",
       "      <td>24</td>\n",
       "      <td>14.17982456</td>\n",
       "      <td>4</td>\n",
       "      <td>31</td>\n",
       "      <td>10.1146789</td>\n",
       "      <td>4</td>\n",
       "    </tr>\n",
       "    <tr>\n",
       "      <th>4</th>\n",
       "      <td>6/13/16</td>\n",
       "      <td>Argentina-San_Juan</td>\n",
       "      <td>-31.535107</td>\n",
       "      <td>-68.538594</td>\n",
       "      <td>4</td>\n",
       "      <td>-0.365384615</td>\n",
       "      <td>-4</td>\n",
       "      <td>None</td>\n",
       "      <td>None</td>\n",
       "      <td>None</td>\n",
       "      <td>964.4</td>\n",
       "      <td>953.6888889</td>\n",
       "      <td>947</td>\n",
       "      <td>17</td>\n",
       "      <td>6.555555556</td>\n",
       "      <td>-3</td>\n",
       "      <td>33</td>\n",
       "      <td>11.64705882</td>\n",
       "      <td>4</td>\n",
       "    </tr>\n",
       "  </tbody>\n",
       "</table>\n",
       "</div>"
      ],
      "text/plain": [
       "  report_date                        location        lat       long dewPt_max  \\\n",
       "0      1/9/16   Colombia-Bogota-Bogota, _D.C.   4.710989 -74.072092        98   \n",
       "1     1/16/16   Colombia-Bogota-Bogota, _D.C.   4.710989 -74.072092        13   \n",
       "2     1/23/16   Colombia-Bogota-Bogota, _D.C.   4.710989 -74.072092        13   \n",
       "3      2/6/16   Colombia-Bogota-Bogota, _D.C.   4.710989 -74.072092        13   \n",
       "4     6/13/16              Argentina-San_Juan -31.535107 -68.538594         4   \n",
       "\n",
       "     dewPt_mean dewPt_min precip_total_max precip_total_mean precip_total_min  \\\n",
       "0   10.54464286         5             None              None             None   \n",
       "1   8.688888889         2             None              None             None   \n",
       "2   8.641666667        -1             None              None             None   \n",
       "3   8.530701754        -6             None              None             None   \n",
       "4  -0.365384615        -4             None              None             None   \n",
       "\n",
       "  pressure_max pressure_mean pressure_min temp_max    temp_mean temp_min  \\\n",
       "0       754.51   752.4095946       745.33       98  15.34821429        6   \n",
       "1       754.51   752.3409375       750.05       23  13.63111111        2   \n",
       "2       754.76   752.5614644       750.05       23       13.625        2   \n",
       "3       754.26   752.2243612        749.8       24  14.17982456        4   \n",
       "4        964.4   953.6888889          947       17  6.555555556       -3   \n",
       "\n",
       "  wspd_max    wspd_mean wspd_min  \n",
       "0       33  10.60909091        4  \n",
       "1       28  9.769953052        4  \n",
       "2       30  9.164502165        4  \n",
       "3       31   10.1146789        4  \n",
       "4       33  11.64705882        4  "
      ]
     },
     "execution_count": 22,
     "metadata": {},
     "output_type": "execute_result"
    }
   ],
   "source": [
    "data_weather.head()"
   ]
  },
  {
   "cell_type": "code",
   "execution_count": 23,
   "metadata": {
    "collapsed": true
   },
   "outputs": [],
   "source": [
    "weather_columns = [u'dewPt_max',u'dewPt_mean', u'dewPt_min', u'precip_total_max', u'precip_total_mean',\n",
    "       u'precip_total_min', u'pressure_max', u'pressure_mean', u'pressure_min',u'temp_max', u'temp_mean',\n",
    "                   u'temp_min', u'wspd_max', u'wspd_mean',u'wspd_min']"
   ]
  },
  {
   "cell_type": "code",
   "execution_count": 24,
   "metadata": {
    "collapsed": false
   },
   "outputs": [
    {
     "name": "stderr",
     "output_type": "stream",
     "text": [
      "C:\\Users\\Shetty\\Anaconda\\lib\\site-packages\\ipykernel\\__main__.py:1: FutureWarning: convert_objects is deprecated.  Use the data-type specific converters pd.to_datetime, pd.to_timedelta and pd.to_numeric.\n",
      "  if __name__ == '__main__':\n"
     ]
    }
   ],
   "source": [
    "data_weather[weather_columns] = data_weather[weather_columns].convert_objects(convert_numeric=True)"
   ]
  },
  {
   "cell_type": "code",
   "execution_count": 26,
   "metadata": {
    "collapsed": true
   },
   "outputs": [],
   "source": [
    "# Impute any missing values with mean\n",
    "imp = preprocessing.Imputer()\n",
    "data_weather[weather_columns] = imp.fit_transform(data_weather[weather_columns])"
   ]
  },
  {
   "cell_type": "code",
   "execution_count": 29,
   "metadata": {
    "collapsed": false
   },
   "outputs": [],
   "source": [
    "# Rescale to account for each columns being on a different scale (or units)\n",
    "data_weather[weather_columns] = preprocessing.scale(data_weather[weather_columns])"
   ]
  },
  {
   "cell_type": "code",
   "execution_count": 31,
   "metadata": {
    "collapsed": false
   },
   "outputs": [
    {
     "data": {
      "text/html": [
       "<div>\n",
       "<table border=\"1\" class=\"dataframe\">\n",
       "  <thead>\n",
       "    <tr style=\"text-align: right;\">\n",
       "      <th></th>\n",
       "      <th>report_date</th>\n",
       "      <th>location</th>\n",
       "      <th>lat</th>\n",
       "      <th>long</th>\n",
       "      <th>dewPt_max</th>\n",
       "      <th>dewPt_mean</th>\n",
       "      <th>dewPt_min</th>\n",
       "      <th>precip_total_max</th>\n",
       "      <th>precip_total_mean</th>\n",
       "      <th>precip_total_min</th>\n",
       "      <th>pressure_max</th>\n",
       "      <th>pressure_mean</th>\n",
       "      <th>pressure_min</th>\n",
       "      <th>temp_max</th>\n",
       "      <th>temp_mean</th>\n",
       "      <th>temp_min</th>\n",
       "      <th>wspd_max</th>\n",
       "      <th>wspd_mean</th>\n",
       "      <th>wspd_min</th>\n",
       "    </tr>\n",
       "  </thead>\n",
       "  <tbody>\n",
       "    <tr>\n",
       "      <th>0</th>\n",
       "      <td>1/9/16</td>\n",
       "      <td>Colombia-Bogota-Bogota, _D.C.</td>\n",
       "      <td>4.710989</td>\n",
       "      <td>-74.072092</td>\n",
       "      <td>9.649325</td>\n",
       "      <td>-1.454919</td>\n",
       "      <td>-1.401169</td>\n",
       "      <td>6.270825e-16</td>\n",
       "      <td>1.175847e-15</td>\n",
       "      <td>9.924592e-16</td>\n",
       "      <td>-1.177345</td>\n",
       "      <td>-1.494531</td>\n",
       "      <td>-1.403926</td>\n",
       "      <td>8.789665</td>\n",
       "      <td>-1.490906</td>\n",
       "      <td>-1.804205</td>\n",
       "      <td>0.106652</td>\n",
       "      <td>-0.181011</td>\n",
       "      <td>-0.568948</td>\n",
       "    </tr>\n",
       "    <tr>\n",
       "      <th>1</th>\n",
       "      <td>1/16/16</td>\n",
       "      <td>Colombia-Bogota-Bogota, _D.C.</td>\n",
       "      <td>4.710989</td>\n",
       "      <td>-74.072092</td>\n",
       "      <td>-1.108508</td>\n",
       "      <td>-1.811340</td>\n",
       "      <td>-1.855505</td>\n",
       "      <td>6.270825e-16</td>\n",
       "      <td>1.175847e-15</td>\n",
       "      <td>9.924592e-16</td>\n",
       "      <td>-1.177345</td>\n",
       "      <td>-1.495253</td>\n",
       "      <td>-1.356565</td>\n",
       "      <td>-1.034095</td>\n",
       "      <td>-1.793407</td>\n",
       "      <td>-2.427326</td>\n",
       "      <td>-0.047103</td>\n",
       "      <td>-0.414935</td>\n",
       "      <td>-0.568948</td>\n",
       "    </tr>\n",
       "    <tr>\n",
       "      <th>2</th>\n",
       "      <td>1/23/16</td>\n",
       "      <td>Colombia-Bogota-Bogota, _D.C.</td>\n",
       "      <td>4.710989</td>\n",
       "      <td>-74.072092</td>\n",
       "      <td>-1.108508</td>\n",
       "      <td>-1.820409</td>\n",
       "      <td>-2.309840</td>\n",
       "      <td>6.270825e-16</td>\n",
       "      <td>1.175847e-15</td>\n",
       "      <td>9.924592e-16</td>\n",
       "      <td>-1.175393</td>\n",
       "      <td>-1.492933</td>\n",
       "      <td>-1.356565</td>\n",
       "      <td>-1.034095</td>\n",
       "      <td>-1.794484</td>\n",
       "      <td>-2.427326</td>\n",
       "      <td>0.014399</td>\n",
       "      <td>-0.583715</td>\n",
       "      <td>-0.568948</td>\n",
       "    </tr>\n",
       "    <tr>\n",
       "      <th>3</th>\n",
       "      <td>2/6/16</td>\n",
       "      <td>Colombia-Bogota-Bogota, _D.C.</td>\n",
       "      <td>4.710989</td>\n",
       "      <td>-74.072092</td>\n",
       "      <td>-1.108508</td>\n",
       "      <td>-1.841721</td>\n",
       "      <td>-3.067066</td>\n",
       "      <td>6.270825e-16</td>\n",
       "      <td>1.175847e-15</td>\n",
       "      <td>9.924592e-16</td>\n",
       "      <td>-1.179296</td>\n",
       "      <td>-1.496479</td>\n",
       "      <td>-1.359074</td>\n",
       "      <td>-0.903111</td>\n",
       "      <td>-1.696741</td>\n",
       "      <td>-2.115765</td>\n",
       "      <td>0.045150</td>\n",
       "      <td>-0.318837</td>\n",
       "      <td>-0.568948</td>\n",
       "    </tr>\n",
       "    <tr>\n",
       "      <th>4</th>\n",
       "      <td>6/13/16</td>\n",
       "      <td>Argentina-San_Juan</td>\n",
       "      <td>-31.535107</td>\n",
       "      <td>-68.538594</td>\n",
       "      <td>-2.247573</td>\n",
       "      <td>-3.550325</td>\n",
       "      <td>-2.764176</td>\n",
       "      <td>6.270825e-16</td>\n",
       "      <td>1.175847e-15</td>\n",
       "      <td>9.924592e-16</td>\n",
       "      <td>0.461100</td>\n",
       "      <td>0.622834</td>\n",
       "      <td>0.619641</td>\n",
       "      <td>-1.819995</td>\n",
       "      <td>-3.039905</td>\n",
       "      <td>-3.206228</td>\n",
       "      <td>0.106652</td>\n",
       "      <td>0.108341</td>\n",
       "      <td>-0.568948</td>\n",
       "    </tr>\n",
       "  </tbody>\n",
       "</table>\n",
       "</div>"
      ],
      "text/plain": [
       "  report_date                        location        lat       long  \\\n",
       "0      1/9/16   Colombia-Bogota-Bogota, _D.C.   4.710989 -74.072092   \n",
       "1     1/16/16   Colombia-Bogota-Bogota, _D.C.   4.710989 -74.072092   \n",
       "2     1/23/16   Colombia-Bogota-Bogota, _D.C.   4.710989 -74.072092   \n",
       "3      2/6/16   Colombia-Bogota-Bogota, _D.C.   4.710989 -74.072092   \n",
       "4     6/13/16              Argentina-San_Juan -31.535107 -68.538594   \n",
       "\n",
       "   dewPt_max  dewPt_mean  dewPt_min  precip_total_max  precip_total_mean  \\\n",
       "0   9.649325   -1.454919  -1.401169      6.270825e-16       1.175847e-15   \n",
       "1  -1.108508   -1.811340  -1.855505      6.270825e-16       1.175847e-15   \n",
       "2  -1.108508   -1.820409  -2.309840      6.270825e-16       1.175847e-15   \n",
       "3  -1.108508   -1.841721  -3.067066      6.270825e-16       1.175847e-15   \n",
       "4  -2.247573   -3.550325  -2.764176      6.270825e-16       1.175847e-15   \n",
       "\n",
       "   precip_total_min  pressure_max  pressure_mean  pressure_min  temp_max  \\\n",
       "0      9.924592e-16     -1.177345      -1.494531     -1.403926  8.789665   \n",
       "1      9.924592e-16     -1.177345      -1.495253     -1.356565 -1.034095   \n",
       "2      9.924592e-16     -1.175393      -1.492933     -1.356565 -1.034095   \n",
       "3      9.924592e-16     -1.179296      -1.496479     -1.359074 -0.903111   \n",
       "4      9.924592e-16      0.461100       0.622834      0.619641 -1.819995   \n",
       "\n",
       "   temp_mean  temp_min  wspd_max  wspd_mean  wspd_min  \n",
       "0  -1.490906 -1.804205  0.106652  -0.181011 -0.568948  \n",
       "1  -1.793407 -2.427326 -0.047103  -0.414935 -0.568948  \n",
       "2  -1.794484 -2.427326  0.014399  -0.583715 -0.568948  \n",
       "3  -1.696741 -2.115765  0.045150  -0.318837 -0.568948  \n",
       "4  -3.039905 -3.206228  0.106652   0.108341 -0.568948  "
      ]
     },
     "execution_count": 31,
     "metadata": {},
     "output_type": "execute_result"
    }
   ],
   "source": [
    "data_weather.head()"
   ]
  },
  {
   "cell_type": "code",
   "execution_count": 32,
   "metadata": {
    "collapsed": false
   },
   "outputs": [],
   "source": [
    "merged_data = data_weather.merge(data_lat_lon,on=['report_date','lat','long'])"
   ]
  },
  {
   "cell_type": "code",
   "execution_count": 33,
   "metadata": {
    "collapsed": false
   },
   "outputs": [],
   "source": [
    "merged_data.drop(['report_date','location_x','location_y','lat','long'],axis=1,inplace=1)"
   ]
  },
  {
   "cell_type": "code",
   "execution_count": 34,
   "metadata": {
    "collapsed": false
   },
   "outputs": [
    {
     "data": {
      "text/html": [
       "<div>\n",
       "<table border=\"1\" class=\"dataframe\">\n",
       "  <thead>\n",
       "    <tr style=\"text-align: right;\">\n",
       "      <th></th>\n",
       "      <th>dewPt_max</th>\n",
       "      <th>dewPt_mean</th>\n",
       "      <th>dewPt_min</th>\n",
       "      <th>precip_total_max</th>\n",
       "      <th>precip_total_mean</th>\n",
       "      <th>precip_total_min</th>\n",
       "      <th>pressure_max</th>\n",
       "      <th>pressure_mean</th>\n",
       "      <th>pressure_min</th>\n",
       "      <th>temp_max</th>\n",
       "      <th>temp_mean</th>\n",
       "      <th>temp_min</th>\n",
       "      <th>wspd_max</th>\n",
       "      <th>wspd_mean</th>\n",
       "      <th>wspd_min</th>\n",
       "      <th>zika_confirmed</th>\n",
       "    </tr>\n",
       "  </thead>\n",
       "  <tbody>\n",
       "    <tr>\n",
       "      <th>0</th>\n",
       "      <td>9.649325</td>\n",
       "      <td>-1.454919</td>\n",
       "      <td>-1.401169</td>\n",
       "      <td>6.270825e-16</td>\n",
       "      <td>1.175847e-15</td>\n",
       "      <td>9.924592e-16</td>\n",
       "      <td>-1.177345</td>\n",
       "      <td>-1.494531</td>\n",
       "      <td>-1.403926</td>\n",
       "      <td>8.789665</td>\n",
       "      <td>-1.490906</td>\n",
       "      <td>-1.804205</td>\n",
       "      <td>0.106652</td>\n",
       "      <td>-0.181011</td>\n",
       "      <td>-0.568948</td>\n",
       "      <td>0</td>\n",
       "    </tr>\n",
       "    <tr>\n",
       "      <th>1</th>\n",
       "      <td>-1.108508</td>\n",
       "      <td>-1.811340</td>\n",
       "      <td>-1.855505</td>\n",
       "      <td>6.270825e-16</td>\n",
       "      <td>1.175847e-15</td>\n",
       "      <td>9.924592e-16</td>\n",
       "      <td>-1.177345</td>\n",
       "      <td>-1.495253</td>\n",
       "      <td>-1.356565</td>\n",
       "      <td>-1.034095</td>\n",
       "      <td>-1.793407</td>\n",
       "      <td>-2.427326</td>\n",
       "      <td>-0.047103</td>\n",
       "      <td>-0.414935</td>\n",
       "      <td>-0.568948</td>\n",
       "      <td>0</td>\n",
       "    </tr>\n",
       "    <tr>\n",
       "      <th>2</th>\n",
       "      <td>-1.108508</td>\n",
       "      <td>-1.820409</td>\n",
       "      <td>-2.309840</td>\n",
       "      <td>6.270825e-16</td>\n",
       "      <td>1.175847e-15</td>\n",
       "      <td>9.924592e-16</td>\n",
       "      <td>-1.175393</td>\n",
       "      <td>-1.492933</td>\n",
       "      <td>-1.356565</td>\n",
       "      <td>-1.034095</td>\n",
       "      <td>-1.794484</td>\n",
       "      <td>-2.427326</td>\n",
       "      <td>0.014399</td>\n",
       "      <td>-0.583715</td>\n",
       "      <td>-0.568948</td>\n",
       "      <td>0</td>\n",
       "    </tr>\n",
       "    <tr>\n",
       "      <th>3</th>\n",
       "      <td>-1.108508</td>\n",
       "      <td>-1.841721</td>\n",
       "      <td>-3.067066</td>\n",
       "      <td>6.270825e-16</td>\n",
       "      <td>1.175847e-15</td>\n",
       "      <td>9.924592e-16</td>\n",
       "      <td>-1.179296</td>\n",
       "      <td>-1.496479</td>\n",
       "      <td>-1.359074</td>\n",
       "      <td>-0.903111</td>\n",
       "      <td>-1.696741</td>\n",
       "      <td>-2.115765</td>\n",
       "      <td>0.045150</td>\n",
       "      <td>-0.318837</td>\n",
       "      <td>-0.568948</td>\n",
       "      <td>0</td>\n",
       "    </tr>\n",
       "    <tr>\n",
       "      <th>4</th>\n",
       "      <td>-2.247573</td>\n",
       "      <td>-3.550325</td>\n",
       "      <td>-2.764176</td>\n",
       "      <td>6.270825e-16</td>\n",
       "      <td>1.175847e-15</td>\n",
       "      <td>9.924592e-16</td>\n",
       "      <td>0.461100</td>\n",
       "      <td>0.622834</td>\n",
       "      <td>0.619641</td>\n",
       "      <td>-1.819995</td>\n",
       "      <td>-3.039905</td>\n",
       "      <td>-3.206228</td>\n",
       "      <td>0.106652</td>\n",
       "      <td>0.108341</td>\n",
       "      <td>-0.568948</td>\n",
       "      <td>0</td>\n",
       "    </tr>\n",
       "  </tbody>\n",
       "</table>\n",
       "</div>"
      ],
      "text/plain": [
       "   dewPt_max  dewPt_mean  dewPt_min  precip_total_max  precip_total_mean  \\\n",
       "0   9.649325   -1.454919  -1.401169      6.270825e-16       1.175847e-15   \n",
       "1  -1.108508   -1.811340  -1.855505      6.270825e-16       1.175847e-15   \n",
       "2  -1.108508   -1.820409  -2.309840      6.270825e-16       1.175847e-15   \n",
       "3  -1.108508   -1.841721  -3.067066      6.270825e-16       1.175847e-15   \n",
       "4  -2.247573   -3.550325  -2.764176      6.270825e-16       1.175847e-15   \n",
       "\n",
       "   precip_total_min  pressure_max  pressure_mean  pressure_min  temp_max  \\\n",
       "0      9.924592e-16     -1.177345      -1.494531     -1.403926  8.789665   \n",
       "1      9.924592e-16     -1.177345      -1.495253     -1.356565 -1.034095   \n",
       "2      9.924592e-16     -1.175393      -1.492933     -1.356565 -1.034095   \n",
       "3      9.924592e-16     -1.179296      -1.496479     -1.359074 -0.903111   \n",
       "4      9.924592e-16      0.461100       0.622834      0.619641 -1.819995   \n",
       "\n",
       "   temp_mean  temp_min  wspd_max  wspd_mean  wspd_min  zika_confirmed  \n",
       "0  -1.490906 -1.804205  0.106652  -0.181011 -0.568948               0  \n",
       "1  -1.793407 -2.427326 -0.047103  -0.414935 -0.568948               0  \n",
       "2  -1.794484 -2.427326  0.014399  -0.583715 -0.568948               0  \n",
       "3  -1.696741 -2.115765  0.045150  -0.318837 -0.568948               0  \n",
       "4  -3.039905 -3.206228  0.106652   0.108341 -0.568948               0  "
      ]
     },
     "execution_count": 34,
     "metadata": {},
     "output_type": "execute_result"
    }
   ],
   "source": [
    "merged_data.head()"
   ]
  },
  {
   "cell_type": "code",
   "execution_count": 35,
   "metadata": {
    "collapsed": true
   },
   "outputs": [],
   "source": [
    "# Save the data to build a logistic regression model\n",
    "merged_data.to_csv('data/data_for_modelling.csv',index=None)"
   ]
  },
  {
   "cell_type": "code",
   "execution_count": 36,
   "metadata": {
    "collapsed": false
   },
   "outputs": [
    {
     "data": {
      "text/plain": [
       "0    19538\n",
       "1     9300\n",
       "Name: zika_confirmed, dtype: int64"
      ]
     },
     "execution_count": 36,
     "metadata": {},
     "output_type": "execute_result"
    }
   ],
   "source": [
    "merged_data.zika_confirmed.value_counts()"
   ]
  },
  {
   "cell_type": "code",
   "execution_count": 37,
   "metadata": {
    "collapsed": true
   },
   "outputs": [],
   "source": [
    "# Dorian: Can you fill in the steps where yo built the model"
   ]
  },
  {
   "cell_type": "code",
   "execution_count": null,
   "metadata": {
    "collapsed": true
   },
   "outputs": [],
   "source": []
  }
 ],
 "metadata": {
  "anaconda-cloud": {},
  "kernelspec": {
   "display_name": "Python [default]",
   "language": "python",
   "name": "python2"
  },
  "language_info": {
   "codemirror_mode": {
    "name": "ipython",
    "version": 2
   },
   "file_extension": ".py",
   "mimetype": "text/x-python",
   "name": "python",
   "nbconvert_exporter": "python",
   "pygments_lexer": "ipython2",
   "version": "2.7.12"
  }
 },
 "nbformat": 4,
 "nbformat_minor": 1
}
